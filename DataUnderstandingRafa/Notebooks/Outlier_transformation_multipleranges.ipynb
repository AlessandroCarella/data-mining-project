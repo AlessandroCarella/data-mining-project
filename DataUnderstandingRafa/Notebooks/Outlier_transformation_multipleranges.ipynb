{
 "cells": [
  {
   "cell_type": "code",
   "execution_count": 2,
   "metadata": {},
   "outputs": [],
   "source": [
    "import numpy as np\n",
    "import pandas as pd\n",
    "import matplotlib.pyplot as plt\n",
    "import seaborn as sns\n",
    "import math"
   ]
  },
  {
   "cell_type": "code",
   "execution_count": 3,
   "metadata": {},
   "outputs": [],
   "source": [
    "data = pd.read_csv('../../dataset (missing + split)/train.csv', skip_blank_lines=True)"
   ]
  },
  {
   "cell_type": "markdown",
   "metadata": {},
   "source": [
    "#We create the interquartile range to delete the noise from the vars and then recreate our new data set without noise"
   ]
  },
  {
   "cell_type": "code",
   "execution_count": 4,
   "metadata": {},
   "outputs": [],
   "source": [
    "#Let's create a column for the data set of all zeros to fill with the outliers\n",
    "data['outliers'] = 0\n",
    "listofscales = [7,4.4,3.4]\n",
    "dfs = {}\n",
    "\n",
    "#1% = 7,  5% = 4.4,  10% = 3.4"
   ]
  },
  {
   "cell_type": "code",
   "execution_count": 5,
   "metadata": {},
   "outputs": [],
   "source": [
    "for l in listofscales:  \n",
    "    df_number = f'df_{l}'\n",
    "    key = f'{\"new_data\"}_{l}'  \n",
    "    data_basis = data.copy()\n",
    "    for x in data.columns:\n",
    "        if np.issubdtype(data[x].dtype, np.number) and len(data[x].unique()) > 5:\n",
    "            \n",
    "            #Handling missing values to check for changes\n",
    "            #data[x].fillna(data[x].mean())\n",
    "            #data.dropna(subset=[x], inplace=True)\n",
    "            #Interquartile range\n",
    "            Q1 = np.percentile(data[x], 25)\n",
    "            Q3 = np.percentile(data[x], 75)\n",
    "            IQR = Q3 - Q1\n",
    "\n",
    "            #Lower and upper bound for outliers\n",
    "            lower_bound = Q1 - l * IQR\n",
    "            upper_bound = Q3 + l * IQR\n",
    "\n",
    "            data.loc[((data[x] < lower_bound) | (data[x] > upper_bound)),'outliers'] = 1\n",
    "        #new_data = data[data['outliers']!= 1]\n",
    "    dfs[key] = pd.DataFrame(data)\n",
    "    data = data_basis\n"
   ]
  },
  {
   "cell_type": "code",
   "execution_count": 16,
   "metadata": {},
   "outputs": [
    {
     "name": "stdout",
     "output_type": "stream",
     "text": [
      "New Data: new_data_7\n",
      "[0]\n",
      "   outliers  Frequency\n",
      "0         0      14842\n",
      "New Data: new_data_4.4\n",
      "[0]\n",
      "   outliers  Frequency\n",
      "0         0      14293\n",
      "New Data: new_data_3.4\n",
      "[0]\n",
      "   outliers  Frequency\n",
      "0         0      13499\n"
     ]
    }
   ],
   "source": [
    "for key, df in dfs.items():\n",
    "    print(f\"New Data: {key}\")\n",
    "    #print(df)\n",
    "    print(df['outliers'].unique())\n",
    "    print(df.groupby('outliers').size().reset_index(name='Frequency'))"
   ]
  },
  {
   "cell_type": "code",
   "execution_count": 15,
   "metadata": {},
   "outputs": [],
   "source": [
    "for key, df in dfs.items(): \n",
    "    no_outliers = df[df['outliers']!= 1]\n",
    "    dfs[key] = pd.DataFrame(no_outliers)"
   ]
  },
  {
   "cell_type": "code",
   "execution_count": 7,
   "metadata": {},
   "outputs": [],
   "source": [
    "#Creating the new df\n",
    "new_data = data[data['outliers']!= 1]\n",
    "new_data = pd.DataFrame(new_data)"
   ]
  },
  {
   "cell_type": "markdown",
   "metadata": {},
   "source": [
    "#The count of outliers in total is really high, it's almost a third of the data set, in this case we have various options."
   ]
  },
  {
   "cell_type": "markdown",
   "metadata": {},
   "source": [
    "1. winsorizing(Truncating or Capping)\n",
    "2. trimming(Delete them)\n",
    "3. trying to eliminate outliers after the feature selection and see if the number it's lower"
   ]
  },
  {
   "cell_type": "markdown",
   "metadata": {},
   "source": [
    "#Check the difference in boxplots and hist when we change the IQR scale"
   ]
  },
  {
   "cell_type": "markdown",
   "metadata": {},
   "source": [
    "#Hist code"
   ]
  },
  {
   "cell_type": "code",
   "execution_count": 38,
   "metadata": {},
   "outputs": [
    {
     "data": {
      "text/plain": [
       "\" numeric_columns = data[['duration_ms']]\\nnumeric_columns = data.select_dtypes(include=['number']).columns\\nfor col in numeric_columns:\\n        for key, df in dfs.items():\\n                print(col+'_'+str(key))\\n                bins_number = math.ceil(math.log2(df[col].size)) + 1\\n                df[col].hist(bins = bins_number, color = 'c', edgecolor = 'b')\\n                mean_value = df[col].mean()\\n                #mode_value = master[col].mode()\\n                median_value = df[col].median()\\n                plt.ticklabel_format(style='plain', axis='x')\\n                plt.title(str.capitalize(col) +'-'+ key + ' Histogram')\\n                plt.xlabel(str.capitalize(col))\\n                plt.ylabel('Frequency')\\n                plt.axvline(mean_value, color = 'blue', linestyle = 'dashed')\\n                #plt.axvline(mode_value[0], color='#FF00FF', linestyle = '--')\\n                plt.axvline(median_value, color = 'red', linestyle = '--')\\n                plt.show() \""
      ]
     },
     "execution_count": 38,
     "metadata": {},
     "output_type": "execute_result"
    }
   ],
   "source": [
    "\"\"\" numeric_columns = data[['duration_ms']]\n",
    "numeric_columns = data.select_dtypes(include=['number']).columns\n",
    "for col in numeric_columns:\n",
    "        for key, df in dfs.items():\n",
    "                print(col+'_'+str(key))\n",
    "                bins_number = math.ceil(math.log2(df[col].size)) + 1\n",
    "                df[col].hist(bins = bins_number, color = 'c', edgecolor = 'b')\n",
    "                mean_value = df[col].mean()\n",
    "                #mode_value = master[col].mode()\n",
    "                median_value = df[col].median()\n",
    "                plt.ticklabel_format(style='plain', axis='x')\n",
    "                plt.title(str.capitalize(col) +'-'+ key + ' Histogram')\n",
    "                plt.xlabel(str.capitalize(col))\n",
    "                plt.ylabel('Frequency')\n",
    "                plt.axvline(mean_value, color = 'blue', linestyle = 'dashed')\n",
    "                #plt.axvline(mode_value[0], color='#FF00FF', linestyle = '--')\n",
    "                plt.axvline(median_value, color = 'red', linestyle = '--')\n",
    "                plt.show() \"\"\""
   ]
  },
  {
   "cell_type": "markdown",
   "metadata": {},
   "source": [
    "#Boxplot code"
   ]
  },
  {
   "cell_type": "code",
   "execution_count": 9,
   "metadata": {},
   "outputs": [
    {
     "data": {
      "text/plain": [
       "\" numeric_columns = new_data.select_dtypes(include=['number']).columns\\nfor col in numeric_columns:\\n        fig, ax = plt.subplots()\\n        boxprops = dict(linestyle='--', linewidth=2, color='blue', edgecolor='red')\\n        flierprops = dict(marker='o', markerfacecolor='green', markersize=8, linestyle='none')\\n        medianprops = dict(linestyle='-', linewidth=2, color='orange')\\n        box = ax.boxplot(new_data[col], patch_artist=True, boxprops=boxprops, flierprops=flierprops, medianprops=medianprops)\\n        ax.yaxis.grid(True, linestyle='--', which='major', color='gray', alpha=0.7)\\n        ax.axhline(y=0, color='gray', linestyle='--', linewidth=2)\\n        plt.boxplot(new_data[col])\\n        plt.title(str.capitalize(col) +' Box Plot')\\n        plt.ylabel('Value')\\n        plt.show() \""
      ]
     },
     "execution_count": 9,
     "metadata": {},
     "output_type": "execute_result"
    }
   ],
   "source": [
    "numeric_columns = new_data.select_dtypes(include=['number']).columns\n",
    "for col in numeric_columns:\n",
    "        fig, ax = plt.subplots()\n",
    "        boxprops = dict(linestyle='--', linewidth=2, color='blue', edgecolor='red')\n",
    "        flierprops = dict(marker='o', markerfacecolor='green', markersize=8, linestyle='none')\n",
    "        medianprops = dict(linestyle='-', linewidth=2, color='orange')\n",
    "        box = ax.boxplot(new_data[col], patch_artist=True, boxprops=boxprops, flierprops=flierprops, medianprops=medianprops)\n",
    "        ax.yaxis.grid(True, linestyle='--', which='major', color='gray', alpha=0.7)\n",
    "        ax.axhline(y=0, color='gray', linestyle='--', linewidth=2)\n",
    "        plt.boxplot(new_data[col])\n",
    "        plt.title(str.capitalize(col) +' Box Plot')\n",
    "        plt.ylabel('Value')\n",
    "        plt.show()"
   ]
  }
 ],
 "metadata": {
  "kernelspec": {
   "display_name": "masterDS",
   "language": "python",
   "name": "python3"
  },
  "language_info": {
   "codemirror_mode": {
    "name": "ipython",
    "version": 3
   },
   "file_extension": ".py",
   "mimetype": "text/x-python",
   "name": "python",
   "nbconvert_exporter": "python",
   "pygments_lexer": "ipython3",
   "version": "3.11.5"
  }
 },
 "nbformat": 4,
 "nbformat_minor": 2
}
